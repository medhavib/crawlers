{
 "cells": [
  {
   "cell_type": "code",
   "execution_count": null,
   "id": "5e2f5918",
   "metadata": {},
   "outputs": [],
   "source": [
    "import requests\n",
    "import os\n",
    "from pprint import pprint\n",
    "import numpy as np\n",
    "import pandas as pd\n",
    "import xlsxwriter\n",
    "import requests\n",
    "from requests.auth import HTTPBasicAuth\n",
    "import json\n",
    "from nameparser import HumanName"
   ]
  },
  {
   "cell_type": "code",
   "execution_count": null,
   "id": "57e19d2f",
   "metadata": {},
   "outputs": [],
   "source": [
    "url = \"https://xxxx\"\n",
    "headers = {\n",
    "  'User-Agent': 'Mozilla/5.0 (Windows NT 6.1; WOW64) AppleWebKit/537.36 (KHTML, like Gecko) Chrome/63.0.3239.132 Safari/537.36 QIHU 360SE'\n",
    "}\n",
    "\n",
    "#f = requests.get(url, headers = headers)"
   ]
  },
  {
   "cell_type": "code",
   "execution_count": null,
   "id": "26efbdc8",
   "metadata": {},
   "outputs": [],
   "source": [
    "response = requests.request(\n",
    "    \"GET\",\n",
    "    url,\n",
    "    headers=headers\n",
    ")"
   ]
  },
  {
   "cell_type": "code",
   "execution_count": null,
   "id": "9913611e",
   "metadata": {},
   "outputs": [],
   "source": [
    "allfields = json.loads(response.text)"
   ]
  },
  {
   "cell_type": "code",
   "execution_count": null,
   "id": "fba64a5c",
   "metadata": {},
   "outputs": [],
   "source": [
    "df = pd.DataFrame(allfields)"
   ]
  },
  {
   "cell_type": "code",
   "execution_count": null,
   "id": "7ebeaf57",
   "metadata": {},
   "outputs": [],
   "source": [
    "df.head()"
   ]
  },
  {
   "cell_type": "code",
   "execution_count": null,
   "id": "a299c649",
   "metadata": {},
   "outputs": [],
   "source": [
    "import re"
   ]
  },
  {
   "cell_type": "code",
   "execution_count": null,
   "id": "d28fb5e2",
   "metadata": {},
   "outputs": [],
   "source": [
    "%%script false\n",
    "\n",
    "#this function creates separate columns for each contact and does not work with explode.\n",
    "#given a list of collaborators, produce the following:\n",
    "#email1, email2, ... email-all. These are all email links.\n",
    "emailListOfDicts = []\n",
    "\n",
    "def extractEmails1(emailList):\n",
    "    emailDict = {}\n",
    "    i=1\n",
    "    allemails = []\n",
    "    allnames = []\n",
    "    for email in emailList:\n",
    "        matches = re.findall(r'(.*)<a.*>(.*)</a>', email)\n",
    "        if matches:\n",
    "            (name, email) = matches[0]\n",
    "            #insert each \n",
    "            emailDict['Contact Name'+str(i)] = name.strip()\n",
    "            emailDict['Contact Email'+str(i)] = email.strip()\n",
    "            emailDict['Contact Link'+str(i)] = '=HYPERLINK(\"mailto:{}?subject=Hi from XXXXXXX &body=Hi {}\",\"{}\")'.format(email.strip(), name.strip(), name.strip())\n",
    "            \n",
    "            allemails.append(email.strip())\n",
    "            allnames.append(name.strip())\n",
    "            i = i + 1\n",
    "    if i > 1:\n",
    "        emailDict['All Contacts Email'] = ','.join(allemails)\n",
    "        emailDict['All Contacts Link'] = '=HYPERLINK(\"mailto:{}?subject=Hi from XXXXXXX&body=Hi {}\", \"{}\")'.format(','.join(allemails), ', '.join(allnames), ', '.join(allnames))\n",
    "    \n",
    "    #this last step must be done even if we did not add any new columns!\n",
    "    emailListOfDicts.append(emailDict)\n",
    "        "
   ]
  },
  {
   "cell_type": "code",
   "execution_count": null,
   "id": "36d90f08",
   "metadata": {},
   "outputs": [],
   "source": [
    "#given a list of collaborators, produce the following:\n",
    "#email1, email2, ... email-all. These are all email links.\n",
    "emailListOfDicts = []\n",
    "\n",
    "def extractEmails(emailList):\n",
    "\n",
    "    allemails = []\n",
    "    allnames = []\n",
    "    alllinks = []\n",
    "    allfirst = []\n",
    "    allmiddle = []\n",
    "    alllast = []\n",
    "    alltitle = []\n",
    "    allsuffix = []\n",
    "    \n",
    "    for email in emailList:\n",
    "        matches = re.findall(r'(.*)<a.*>(.*)</a>', email)\n",
    "        if matches:\n",
    "            (name, email) = matches[0]\n",
    "            if name:\n",
    "                name_parts = HumanName(name)\n",
    "                alltitle.append(name_parts.title)\n",
    "                allfirst.append(name_parts.first)\n",
    "                allmiddle.append(name_parts.middle)\n",
    "                alllast.append(name_parts.last)\n",
    "                allsuffix.append(name_parts.suffix)\n",
    "            else:\n",
    "                alltitle.append(\"\")\n",
    "                allfirst.append(\"\")\n",
    "                allmiddle.append(\"\")\n",
    "                alllast.append(\"\")\n",
    "                allsuffix.append(\"\")\n",
    "\n",
    "            allemails.append(email.strip())\n",
    "            allnames.append(name.strip())\n",
    "            alllinks.append('=HYPERLINK(\"mailto:{}?subject=Hi from XXXXXX&body=Hi {}\",\"{}\")'.format(email.strip(), name.strip(), name.strip()))\n",
    "\n",
    "    emailDict = {'Contact Full Name':allnames, 'Contact Title':alltitle, \n",
    "                 'Contact First Name':allfirst, 'Contact Middle Name':allmiddle,\n",
    "                 'Contact Last Name':alllast, 'Contact Suffix':allsuffix,\n",
    "                 'Contact Email':allemails, 'Contact Link':alllinks}\n",
    "    emailListOfDicts.append(emailDict)"
   ]
  },
  {
   "cell_type": "code",
   "execution_count": null,
   "id": "704f4a8d",
   "metadata": {},
   "outputs": [],
   "source": [
    "df['collaborators'].apply(extractEmails)"
   ]
  },
  {
   "cell_type": "code",
   "execution_count": null,
   "id": "8cc748b9",
   "metadata": {},
   "outputs": [],
   "source": [
    "#take a dictionary and add columns\n",
    "df2 = pd.DataFrame(emailListOfDicts)"
   ]
  },
  {
   "cell_type": "code",
   "execution_count": null,
   "id": "0e6b3314",
   "metadata": {},
   "outputs": [],
   "source": [
    "df3 = pd.concat([df, df2], axis=1)"
   ]
  },
  {
   "cell_type": "code",
   "execution_count": null,
   "id": "97e7569d",
   "metadata": {},
   "outputs": [],
   "source": [
    "df3 = df3.drop(columns=['lead', 'country_code', 'continent', 'state_name', 'id'])"
   ]
  },
  {
   "cell_type": "code",
   "execution_count": null,
   "id": "58f5f659",
   "metadata": {},
   "outputs": [],
   "source": [
    "df4 = df3.explode(['Contact Full Name', 'Contact Title', \n",
    "                 'Contact First Name', 'Contact Middle Name',\n",
    "                 'Contact Last Name', 'Contact Suffix', 'Contact Email', 'Contact Link'])"
   ]
  },
  {
   "cell_type": "code",
   "execution_count": null,
   "id": "3972598c",
   "metadata": {},
   "outputs": [],
   "source": [
    "writer = pd.ExcelWriter('leads.xlsx', mode = 'w')\n",
    "df4.to_excel(writer, sheet_name='list', index=False, freeze_panes=(1,1))\n",
    "\n",
    "#format this\n",
    "workbook = writer.book\n",
    "worksheet = writer.sheets['list']\n",
    "\n",
    "header_format = workbook.add_format({'text_wrap': True})\n",
    "\n",
    "(max_row, max_col) = df4.shape\n",
    "worksheet.set_column(0, max_col, 25, header_format)\n",
    "\n",
    "\n",
    "writer.save()"
   ]
  },
  {
   "cell_type": "code",
   "execution_count": null,
   "id": "a49cfa72",
   "metadata": {},
   "outputs": [],
   "source": []
  },
  {
   "cell_type": "code",
   "execution_count": null,
   "id": "b9095a0a",
   "metadata": {},
   "outputs": [],
   "source": []
  }
 ],
 "metadata": {
  "kernelspec": {
   "display_name": "Python 3 (ipykernel)",
   "language": "python",
   "name": "python3"
  },
  "language_info": {
   "codemirror_mode": {
    "name": "ipython",
    "version": 3
   },
   "file_extension": ".py",
   "mimetype": "text/x-python",
   "name": "python",
   "nbconvert_exporter": "python",
   "pygments_lexer": "ipython3",
   "version": "3.12.2"
  }
 },
 "nbformat": 4,
 "nbformat_minor": 5
}
